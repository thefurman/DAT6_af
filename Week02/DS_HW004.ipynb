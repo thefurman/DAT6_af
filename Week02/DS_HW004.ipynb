{
 "metadata": {
  "celltoolbar": "Slideshow",
  "name": "",
  "signature": "sha256:c1f37c60f76dfa07873f340eebcf06e8d2ee0ece9b485df7e4a633bd49c3db20"
 },
 "nbformat": 3,
 "nbformat_minor": 0,
 "worksheets": [
  {
   "cells": [
    {
     "cell_type": "markdown",
     "metadata": {
      "slideshow": {
       "slide_type": "slide"
      }
     },
     "source": [
      "Lab\n",
      "===================\n",
      "Twitter & MongoDB\n",
      "-------------------\n",
      "Alessandro D. Gagliardi"
     ]
    },
    {
     "cell_type": "markdown",
     "metadata": {
      "slideshow": {
       "slide_type": "subslide"
      }
     },
     "source": [
      "Importing Libraries\n",
      "-------------------"
     ]
    },
    {
     "cell_type": "code",
     "collapsed": false,
     "input": [
      "# standard library:\n",
      "import os  \n",
      "\n",
      "from pprint import pprint\n",
      "\n",
      "# other modules:\n",
      "import matplotlib.pyplot as plt\n",
      "import pandas as pd\n",
      "import twitter\n",
      "import yaml\n",
      "\n",
      "from pymongo import MongoClient"
     ],
     "language": "python",
     "metadata": {
      "slideshow": {
       "slide_type": "-"
      }
     },
     "outputs": [],
     "prompt_number": 1
    },
    {
     "cell_type": "markdown",
     "metadata": {
      "slideshow": {
       "slide_type": "slide"
      }
     },
     "source": [
      "Twitter Trends\n",
      "=============="
     ]
    },
    {
     "cell_type": "heading",
     "level": 3,
     "metadata": {
      "slideshow": {
       "slide_type": "subslide"
      }
     },
     "source": [
      "Connect to Twitter:"
     ]
    },
    {
     "cell_type": "code",
     "collapsed": false,
     "input": [
      "credentials = yaml.load(open(os.path.expanduser('~/api_cred.yml')))\n",
      "\n",
      "auth = twitter.oauth.OAuth(credentials['ACCESS_TOKEN'], \n",
      "                           credentials['ACCESS_TOKEN_SECRET'],\n",
      "                           credentials['API_KEY'],\n",
      "                           credentials['API_SECRET'])\n",
      "\n",
      "twitter_api = twitter.Twitter(auth=auth)"
     ],
     "language": "python",
     "metadata": {
      "slideshow": {
       "slide_type": "-"
      }
     },
     "outputs": [],
     "prompt_number": 2
    },
    {
     "cell_type": "code",
     "collapsed": false,
     "input": [
      "# The Yahoo! Where On Earth ID for the entire world is 1.\n",
      "# See https://dev.twitter.com/docs/api/1.1/get/trends/place and\n",
      "# http://developer.yahoo.com/geo/geoplanet/\n",
      "\n",
      "WORLD_WOE_ID = 1\n",
      "US_WOE_ID = 23424977\n",
      "\n",
      "# Prefix ID with the underscore for query string parameterization.\n",
      "# Without the underscore, the twitter package appends the ID value\n",
      "# to the URL itself as a special case keyword argument.\n",
      "\n",
      "world_trends = twitter_api.trends.place(_id=WORLD_WOE_ID)\n",
      "us_trends = twitter_api.trends.place(_id=US_WOE_ID)\n",
      "\n",
      "pprint(world_trends)"
     ],
     "language": "python",
     "metadata": {
      "slideshow": {
       "slide_type": "slide"
      }
     },
     "outputs": [
      {
       "output_type": "stream",
       "stream": "stdout",
       "text": [
        "[{u'as_of': u'2014-04-28T23:18:19Z',\n",
        "  u'created_at': u'2014-04-28T23:13:37Z',\n",
        "  u'locations': [{u'name': u'Worldwide', u'woeid': 1}],\n",
        "  u'trends': [{u'name': u'#DinahtoMyJane',\n",
        "               u'promoted_content': None,\n",
        "               u'query': u'%23DinahtoMyJane',\n",
        "               u'url': u'http://twitter.com/search?q=%23DinahtoMyJane'},\n",
        "              {u'name': u'#BieberStoleFromParamore',\n",
        "               u'promoted_content': None,\n",
        "               u'query': u'%23BieberStoleFromParamore',\n",
        "               u'url': u'http://twitter.com/search?q=%23BieberStoleFromParamore'},\n",
        "              {u'name': u'#WeWereBornForThis',\n",
        "               u'promoted_content': None,\n",
        "               u'query': u'%23WeWereBornForThis',\n",
        "               u'url': u'http://twitter.com/search?q=%23WeWereBornForThis'},\n",
        "              {u'name': u'#HayatDedi\\u011fin',\n",
        "               u'promoted_content': None,\n",
        "               u'query': u'%23HayatDedi%C4%9Fin',\n",
        "               u'url': u'http://twitter.com/search?q=%23HayatDedi%C4%9Fin'},\n",
        "              {u'name': u'Zayn Is An Angel',\n",
        "               u'promoted_content': None,\n",
        "               u'query': u'%22Zayn+Is+An+Angel%22',\n",
        "               u'url': u'http://twitter.com/search?q=%22Zayn+Is+An+Angel%22'},\n",
        "              {u'name': u'#UnaVezMeConquistaron',\n",
        "               u'promoted_content': None,\n",
        "               u'query': u'%23UnaVezMeConquistaron',\n",
        "               u'url': u'http://twitter.com/search?q=%23UnaVezMeConquistaron'},\n",
        "              {u'name': u'No Naya No Glee',\n",
        "               u'promoted_content': None,\n",
        "               u'query': u'%22No+Naya+No+Glee%22',\n",
        "               u'url': u'http://twitter.com/search?q=%22No+Naya+No+Glee%22'},\n",
        "              {u'name': u'LeBron vs the Bobcats',\n",
        "               u'promoted_content': None,\n",
        "               u'query': u'%22LeBron+vs+the+Bobcats%22',\n",
        "               u'url': u'http://twitter.com/search?q=%22LeBron+vs+the+Bobcats%22'},\n",
        "              {u'name': u'Welcome To Brazil Avril Lavigne',\n",
        "               u'promoted_content': None,\n",
        "               u'query': u'%22Welcome+To+Brazil+Avril+Lavigne%22',\n",
        "               u'url': u'http://twitter.com/search?q=%22Welcome+To+Brazil+Avril+Lavigne%22'},\n",
        "              {u'name': u'Luan Banana',\n",
        "               u'promoted_content': None,\n",
        "               u'query': u'%22Luan+Banana%22',\n",
        "               u'url': u'http://twitter.com/search?q=%22Luan+Banana%22'}]}]\n"
       ]
      }
     ],
     "prompt_number": 3
    },
    {
     "cell_type": "code",
     "collapsed": false,
     "input": [
      "pprint(us_trends)"
     ],
     "language": "python",
     "metadata": {
      "slideshow": {
       "slide_type": "subslide"
      }
     },
     "outputs": [
      {
       "output_type": "stream",
       "stream": "stdout",
       "text": [
        "[{u'as_of': u'2014-04-28T23:18:19Z',\n",
        "  u'created_at': u'2014-04-28T23:13:37Z',\n",
        "  u'locations': [{u'name': u'United States', u'woeid': 23424977}],\n",
        "  u'trends': [{u'name': u'#DinahtoMyJane',\n",
        "               u'promoted_content': None,\n",
        "               u'query': u'%23DinahtoMyJane',\n",
        "               u'url': u'http://twitter.com/search?q=%23DinahtoMyJane'},\n",
        "              {u'name': u'#OpTicLAN',\n",
        "               u'promoted_content': None,\n",
        "               u'query': u'%23OpTicLAN',\n",
        "               u'url': u'http://twitter.com/search?q=%23OpTicLAN'},\n",
        "              {u'name': u'LeBron vs the Bobcats',\n",
        "               u'promoted_content': None,\n",
        "               u'query': u'%22LeBron+vs+the+Bobcats%22',\n",
        "               u'url': u'http://twitter.com/search?q=%22LeBron+vs+the+Bobcats%22'},\n",
        "              {u'name': u'#TheyDontLoveYouNoMore',\n",
        "               u'promoted_content': None,\n",
        "               u'query': u'%23TheyDontLoveYouNoMore',\n",
        "               u'url': u'http://twitter.com/search?q=%23TheyDontLoveYouNoMore'},\n",
        "              {u'name': u'#BieberStoleFromParamore',\n",
        "               u'promoted_content': None,\n",
        "               u'query': u'%23BieberStoleFromParamore',\n",
        "               u'url': u'http://twitter.com/search?q=%23BieberStoleFromParamore'},\n",
        "              {u'name': u'#WeWereBornForThis',\n",
        "               u'promoted_content': None,\n",
        "               u'query': u'%23WeWereBornForThis',\n",
        "               u'url': u'http://twitter.com/search?q=%23WeWereBornForThis'},\n",
        "              {u'name': u\"Carly's Basket\",\n",
        "               u'promoted_content': None,\n",
        "               u'query': u'%22Carly%27s+Basket%22',\n",
        "               u'url': u'http://twitter.com/search?q=%22Carly%27s+Basket%22'},\n",
        "              {u'name': u'The California All Stars Smoed',\n",
        "               u'promoted_content': None,\n",
        "               u'query': u'%22The+California+All+Stars+Smoed%22',\n",
        "               u'url': u'http://twitter.com/search?q=%22The+California+All+Stars+Smoed%22'},\n",
        "              {u'name': u'Pretty Woman',\n",
        "               u'promoted_content': None,\n",
        "               u'query': u'%22Pretty+Woman%22',\n",
        "               u'url': u'http://twitter.com/search?q=%22Pretty+Woman%22'},\n",
        "              {u'name': u'Best Kourtney K',\n",
        "               u'promoted_content': None,\n",
        "               u'query': u'%22Best+Kourtney+K%22',\n",
        "               u'url': u'http://twitter.com/search?q=%22Best+Kourtney+K%22'}]}]\n"
       ]
      }
     ],
     "prompt_number": 4
    },
    {
     "cell_type": "heading",
     "level": 3,
     "metadata": {
      "slideshow": {
       "slide_type": "subslide"
      }
     },
     "source": [
      "Do any of these trends intersect?"
     ]
    },
    {
     "cell_type": "code",
     "collapsed": false,
     "input": [
      "world_trends_set = set([trend['name'] for trends in world_trends\n",
      "                        for trend in trends['trends']])\n",
      "\n",
      "us_trends_set = set([trend['name'] for trends in us_trends\n",
      "                     for trend in trends['trends']]) \n",
      "\n",
      "world_trends_set.intersection(us_trends_set)"
     ],
     "language": "python",
     "metadata": {
      "slideshow": {
       "slide_type": "fragment"
      }
     },
     "outputs": [
      {
       "metadata": {},
       "output_type": "pyout",
       "prompt_number": 5,
       "text": [
        "{u'#BieberStoleFromParamore',\n",
        " u'#DinahtoMyJane',\n",
        " u'#WeWereBornForThis',\n",
        " u'LeBron vs the Bobcats'}"
       ]
      }
     ],
     "prompt_number": 5
    },
    {
     "cell_type": "markdown",
     "metadata": {
      "slideshow": {
       "slide_type": "slide"
      }
     },
     "source": [
      "Twitter Statuses\n",
      "================"
     ]
    },
    {
     "cell_type": "code",
     "collapsed": false,
     "input": [
      "q = world_trends[0]['trends'][0]['name']\n",
      "\n",
      "count = 100\n",
      "\n",
      "# See https://dev.twitter.com/docs/api/1.1/get/search/tweets\n",
      "\n",
      "search_results = twitter_api.search.tweets(q=q, count=count)\n",
      "\n",
      "statuses = search_results['statuses']"
     ],
     "language": "python",
     "metadata": {
      "slideshow": {
       "slide_type": "fragment"
      }
     },
     "outputs": [],
     "prompt_number": 8
    },
    {
     "cell_type": "code",
     "collapsed": false,
     "input": [
      "len(statuses)"
     ],
     "language": "python",
     "metadata": {
      "slideshow": {
       "slide_type": "fragment"
      }
     },
     "outputs": [
      {
       "metadata": {},
       "output_type": "pyout",
       "prompt_number": 9,
       "text": [
        "98"
       ]
      }
     ],
     "prompt_number": 9
    },
    {
     "cell_type": "heading",
     "level": 3,
     "metadata": {
      "slideshow": {
       "slide_type": "subslide"
      }
     },
     "source": [
      "More?"
     ]
    },
    {
     "cell_type": "code",
     "collapsed": false,
     "input": [
      "search_results['search_metadata'].get('next_results')"
     ],
     "language": "python",
     "metadata": {
      "slideshow": {
       "slide_type": "fragment"
      }
     },
     "outputs": [],
     "prompt_number": 10
    },
    {
     "cell_type": "code",
     "collapsed": false,
     "input": [
      "if 'next_results' in search_results['search_metadata']:\n",
      "    next_results = search_results['search_metadata']['next_results']\n",
      "    kwargs = dict([ kv.split('=') for kv in next_results[1:].split(\"&\") ])\n",
      "    search_results = twitter_api.search.tweets(**kwargs)\n",
      "    statuses += search_results['statuses']\n",
      "\n",
      "len(statuses)"
     ],
     "language": "python",
     "metadata": {
      "slideshow": {
       "slide_type": "fragment"
      }
     },
     "outputs": [
      {
       "metadata": {},
       "output_type": "pyout",
       "prompt_number": 11,
       "text": [
        "98"
       ]
      }
     ],
     "prompt_number": 11
    },
    {
     "cell_type": "markdown",
     "metadata": {
      "slideshow": {
       "slide_type": "slide"
      }
     },
     "source": [
      "Mongo\n",
      "====="
     ]
    },
    {
     "cell_type": "markdown",
     "metadata": {
      "slideshow": {
       "slide_type": "subslide"
      }
     },
     "source": [
      "from the command line:\n",
      "```bash\n",
      "$ mkdir -p data/db\n",
      "$ mongod --dbpath data/db\n",
      "```"
     ]
    },
    {
     "cell_type": "heading",
     "level": 3,
     "metadata": {
      "slideshow": {
       "slide_type": "slide"
      }
     },
     "source": [
      "Connect to our Mongo database management server (DBMS):"
     ]
    },
    {
     "cell_type": "code",
     "collapsed": false,
     "input": [
      "c = MongoClient()"
     ],
     "language": "python",
     "metadata": {
      "slideshow": {
       "slide_type": "fragment"
      }
     },
     "outputs": [],
     "prompt_number": 14
    },
    {
     "cell_type": "heading",
     "level": 4,
     "metadata": {
      "slideshow": {
       "slide_type": "fragment"
      }
     },
     "source": [
      "Create a database called `twitter`:"
     ]
    },
    {
     "cell_type": "code",
     "collapsed": false,
     "input": [
      "db = c.twitter"
     ],
     "language": "python",
     "metadata": {
      "slideshow": {
       "slide_type": "fragment"
      }
     },
     "outputs": [],
     "prompt_number": 15
    },
    {
     "cell_type": "markdown",
     "metadata": {
      "slideshow": {
       "slide_type": "notes"
      }
     },
     "source": [
      "##### Yes, it's that easy."
     ]
    },
    {
     "cell_type": "heading",
     "level": 4,
     "metadata": {
      "slideshow": {
       "slide_type": "slide"
      }
     },
     "source": [
      "Insert the results we pulled from Twitter and store them as a document in a collection named `tweets`:"
     ]
    },
    {
     "cell_type": "code",
     "collapsed": false,
     "input": [
      "statuses_ids = db.tweets.insert(statuses)\n",
      "statuses_ids[:5]"
     ],
     "language": "python",
     "metadata": {
      "slideshow": {
       "slide_type": "fragment"
      }
     },
     "outputs": [
      {
       "metadata": {},
       "output_type": "pyout",
       "prompt_number": 16,
       "text": [
        "[ObjectId('535ee1eebc3eb5b112f2d086'),\n",
        " ObjectId('535ee1eebc3eb5b112f2d087'),\n",
        " ObjectId('535ee1eebc3eb5b112f2d088'),\n",
        " ObjectId('535ee1eebc3eb5b112f2d089'),\n",
        " ObjectId('535ee1eebc3eb5b112f2d08a')]"
       ]
      }
     ],
     "prompt_number": 16
    },
    {
     "cell_type": "heading",
     "level": 3,
     "metadata": {
      "slideshow": {
       "slide_type": "slide"
      }
     },
     "source": [
      "`ObjectId`s"
     ]
    },
    {
     "cell_type": "markdown",
     "metadata": {
      "slideshow": {
       "slide_type": "fragment"
      }
     },
     "source": [
      "**ObjectId** is a 12-byte **BSON** type, constructed using:\n",
      "\n",
      "-    a 4-byte value representing the seconds since the Unix epoch,\n",
      "-    a 3-byte machine identifier,\n",
      "-    a 2-byte process id, and\n",
      "-    a 3-byte counter, starting with a random value.\n",
      "\n",
      "In MongoDB, documents stored in a collection require a unique `_id` field that acts as a **primary key**. Because ObjectIds are small, most likely unique, and fast to generate, MongoDB uses ObjectIds as the default value for the `_id` field if the `_id` field is not specified. \n",
      "\n",
      "<!--small><i>from http://docs.mongodb.org/manual/reference/object-id/</i></small-->"
     ]
    },
    {
     "cell_type": "markdown",
     "metadata": {
      "slideshow": {
       "slide_type": "notes"
      }
     },
     "source": [
      "Using ObjectIds for the `_id` field provides the following additional benefits:\n",
      "\n",
      "- you can access the insertion time of the ObjectId, using the `.generation_time` property in pymongo. \n",
      "- sorting on an `_id` field that stores ObjectId values is roughly equivalent to sorting by insertion time."
     ]
    },
    {
     "cell_type": "heading",
     "level": 3,
     "metadata": {
      "slideshow": {
       "slide_type": "slide"
      }
     },
     "source": [
      "Test the contents of our database:"
     ]
    },
    {
     "cell_type": "code",
     "collapsed": false,
     "input": [
      "c.database_names()"
     ],
     "language": "python",
     "metadata": {
      "slideshow": {
       "slide_type": "fragment"
      }
     },
     "outputs": [
      {
       "metadata": {},
       "output_type": "pyout",
       "prompt_number": 17,
       "text": [
        "[u'local', u'twitter']"
       ]
      }
     ],
     "prompt_number": 17
    },
    {
     "cell_type": "code",
     "collapsed": false,
     "input": [
      "db = c.twitter\n",
      "db.collection_names()"
     ],
     "language": "python",
     "metadata": {
      "slideshow": {
       "slide_type": "fragment"
      }
     },
     "outputs": [
      {
       "metadata": {},
       "output_type": "pyout",
       "prompt_number": 18,
       "text": [
        "[u'system.indexes', u'tweets']"
       ]
      }
     ],
     "prompt_number": 18
    },
    {
     "cell_type": "code",
     "collapsed": false,
     "input": [
      "db.tweets.find_one()"
     ],
     "language": "python",
     "metadata": {
      "slideshow": {
       "slide_type": "fragment"
      }
     },
     "outputs": [
      {
       "metadata": {},
       "output_type": "pyout",
       "prompt_number": 19,
       "text": [
        "{u'_id': ObjectId('53587f79a5b26b0911295f02'),\n",
        " u'contributors': None,\n",
        " u'coordinates': None,\n",
        " u'created_at': u'Thu Apr 24 03:00:37 +0000 2014',\n",
        " u'entities': {u'hashtags': [{u'indices': [0, 18],\n",
        "    u'text': u'4DaysUntilProblem'}],\n",
        "  u'symbols': [],\n",
        "  u'urls': [],\n",
        "  u'user_mentions': []},\n",
        " u'favorite_count': 0,\n",
        " u'favorited': False,\n",
        " u'geo': None,\n",
        " u'id': 459164983360626690L,\n",
        " u'id_str': u'459164983360626690',\n",
        " u'in_reply_to_screen_name': None,\n",
        " u'in_reply_to_status_id': None,\n",
        " u'in_reply_to_status_id_str': None,\n",
        " u'in_reply_to_user_id': None,\n",
        " u'in_reply_to_user_id_str': None,\n",
        " u'lang': u'en',\n",
        " u'metadata': {u'iso_language_code': u'en', u'result_type': u'recent'},\n",
        " u'place': None,\n",
        " u'retweet_count': 0,\n",
        " u'retweeted': False,\n",
        " u'source': u'<a href=\"http://twitter.com/download/iphone\" rel=\"nofollow\">Twitter for iPhone</a>',\n",
        " u'text': u'#4DaysUntilProblem then I get to put this masterpiece on repeat &amp; never take it off \\U0001f64c',\n",
        " u'truncated': False,\n",
        " u'user': {u'contributors_enabled': False,\n",
        "  u'created_at': u'Sat Jun 01 05:47:16 +0000 2013',\n",
        "  u'default_profile': False,\n",
        "  u'default_profile_image': False,\n",
        "  u'description': u'To infinity and Beyonce. falpal & apart of the R5family. \\u2661 {17.03.14} {2.12.13} {8.04.14} \\u2661',\n",
        "  u'entities': {u'description': {u'urls': []}},\n",
        "  u'favourites_count': 2943,\n",
        "  u'follow_request_sent': False,\n",
        "  u'followers_count': 2416,\n",
        "  u'following': False,\n",
        "  u'friends_count': 1797,\n",
        "  u'geo_enabled': False,\n",
        "  u'id': 1473901448,\n",
        "  u'id_str': u'1473901448',\n",
        "  u'is_translation_enabled': False,\n",
        "  u'is_translator': False,\n",
        "  u'lang': u'en',\n",
        "  u'listed_count': 34,\n",
        "  u'location': u\"In Arianas' Closet\",\n",
        "  u'name': u'jemma',\n",
        "  u'notifications': False,\n",
        "  u'profile_background_color': u'C0DEED',\n",
        "  u'profile_background_image_url': u'http://pbs.twimg.com/profile_background_images/378800000045296052/4f4376e5d6960df4c47931de3ab54957.jpeg',\n",
        "  u'profile_background_image_url_https': u'https://pbs.twimg.com/profile_background_images/378800000045296052/4f4376e5d6960df4c47931de3ab54957.jpeg',\n",
        "  u'profile_background_tile': True,\n",
        "  u'profile_banner_url': u'https://pbs.twimg.com/profile_banners/1473901448/1398209706',\n",
        "  u'profile_image_url': u'http://pbs.twimg.com/profile_images/458752016459005952/EIj5Hdre_normal.jpeg',\n",
        "  u'profile_image_url_https': u'https://pbs.twimg.com/profile_images/458752016459005952/EIj5Hdre_normal.jpeg',\n",
        "  u'profile_link_color': u'F518DB',\n",
        "  u'profile_sidebar_border_color': u'FFFFFF',\n",
        "  u'profile_sidebar_fill_color': u'DDEEF6',\n",
        "  u'profile_text_color': u'333333',\n",
        "  u'profile_use_background_image': True,\n",
        "  u'protected': False,\n",
        "  u'screen_name': u'ButeraBradbery',\n",
        "  u'statuses_count': 14602,\n",
        "  u'time_zone': u'Atlantic Time (Canada)',\n",
        "  u'url': None,\n",
        "  u'utc_offset': -10800,\n",
        "  u'verified': False}}"
       ]
      }
     ],
     "prompt_number": 19
    },
    {
     "cell_type": "markdown",
     "metadata": {
      "slideshow": {
       "slide_type": "notes"
      }
     },
     "source": [
      "Notice the `_id` included in the document along with the values we already saw before."
     ]
    },
    {
     "cell_type": "markdown",
     "metadata": {
      "slideshow": {
       "slide_type": "slide"
      }
     },
     "source": [
      "Now that we have our data in MongoDB, we can use some of it's search functionality. For example:"
     ]
    },
    {
     "cell_type": "code",
     "collapsed": false,
     "input": [
      "popular_tweets = db.tweets.find({'retweet_count': {\"$gte\": 3}})\n",
      "popular_tweets.count()"
     ],
     "language": "python",
     "metadata": {
      "slideshow": {
       "slide_type": "fragment"
      }
     },
     "outputs": [
      {
       "metadata": {},
       "output_type": "pyout",
       "prompt_number": 23,
       "text": [
        "59"
       ]
      }
     ],
     "prompt_number": 23
    },
    {
     "cell_type": "markdown",
     "metadata": {
      "slideshow": {
       "slide_type": "slide"
      }
     },
     "source": [
      "Making Sense with Pandas\n",
      "========================"
     ]
    },
    {
     "cell_type": "code",
     "collapsed": false,
     "input": [
      "pd.DataFrame(db.tweets.find(fields=['created_at', 'retweet_count', 'favorite_count']))"
     ],
     "language": "python",
     "metadata": {
      "slideshow": {
       "slide_type": "slide"
      }
     },
     "outputs": [
      {
       "ename": "PandasError",
       "evalue": "DataFrame constructor not properly called!",
       "output_type": "pyerr",
       "traceback": [
        "\u001b[0;31m---------------------------------------------------------------------------\u001b[0m\n\u001b[0;31mPandasError\u001b[0m                               Traceback (most recent call last)",
        "\u001b[0;32m<ipython-input-24-87a1cfed5405>\u001b[0m in \u001b[0;36m<module>\u001b[0;34m()\u001b[0m\n\u001b[0;32m----> 1\u001b[0;31m \u001b[0mpd\u001b[0m\u001b[0;34m.\u001b[0m\u001b[0mDataFrame\u001b[0m\u001b[0;34m(\u001b[0m\u001b[0mdb\u001b[0m\u001b[0;34m.\u001b[0m\u001b[0mtweets\u001b[0m\u001b[0;34m.\u001b[0m\u001b[0mfind\u001b[0m\u001b[0;34m(\u001b[0m\u001b[0mfields\u001b[0m\u001b[0;34m=\u001b[0m\u001b[0;34m[\u001b[0m\u001b[0;34m'created_at'\u001b[0m\u001b[0;34m,\u001b[0m \u001b[0;34m'retweet_count'\u001b[0m\u001b[0;34m,\u001b[0m \u001b[0;34m'favorite_count'\u001b[0m\u001b[0;34m]\u001b[0m\u001b[0;34m)\u001b[0m\u001b[0;34m)\u001b[0m\u001b[0;34m\u001b[0m\u001b[0m\n\u001b[0m",
        "\u001b[0;32m/Users/afurman/anaconda/lib/python2.7/site-packages/pandas/core/frame.pyc\u001b[0m in \u001b[0;36m__init__\u001b[0;34m(self, data, index, columns, dtype, copy)\u001b[0m\n\u001b[1;32m    271\u001b[0m                                          copy=False)\n\u001b[1;32m    272\u001b[0m             \u001b[0;32melse\u001b[0m\u001b[0;34m:\u001b[0m\u001b[0;34m\u001b[0m\u001b[0m\n\u001b[0;32m--> 273\u001b[0;31m                 \u001b[0;32mraise\u001b[0m \u001b[0mPandasError\u001b[0m\u001b[0;34m(\u001b[0m\u001b[0;34m'DataFrame constructor not properly called!'\u001b[0m\u001b[0;34m)\u001b[0m\u001b[0;34m\u001b[0m\u001b[0m\n\u001b[0m\u001b[1;32m    274\u001b[0m \u001b[0;34m\u001b[0m\u001b[0m\n\u001b[1;32m    275\u001b[0m         \u001b[0mNDFrame\u001b[0m\u001b[0;34m.\u001b[0m\u001b[0m__init__\u001b[0m\u001b[0;34m(\u001b[0m\u001b[0mself\u001b[0m\u001b[0;34m,\u001b[0m \u001b[0mmgr\u001b[0m\u001b[0;34m,\u001b[0m \u001b[0mfastpath\u001b[0m\u001b[0;34m=\u001b[0m\u001b[0mTrue\u001b[0m\u001b[0;34m)\u001b[0m\u001b[0;34m\u001b[0m\u001b[0m\n",
        "\u001b[0;31mPandasError\u001b[0m: DataFrame constructor not properly called!"
       ]
      }
     ],
     "prompt_number": 24
    },
    {
     "cell_type": "code",
     "collapsed": false,
     "input": [
      "retweet_favorites = pd.DataFrame(list(db.tweets.find(fields=['created_at','retweet_count','favorite_count'])))\n",
      "retweet_favorites.head()"
     ],
     "language": "python",
     "metadata": {
      "slideshow": {
       "slide_type": "subslide"
      }
     },
     "outputs": [
      {
       "html": [
        "<div style=\"max-height:1000px;max-width:1500px;overflow:auto;\">\n",
        "<table border=\"1\" class=\"dataframe\">\n",
        "  <thead>\n",
        "    <tr style=\"text-align: right;\">\n",
        "      <th></th>\n",
        "      <th>_id</th>\n",
        "      <th>created_at</th>\n",
        "      <th>favorite_count</th>\n",
        "      <th>retweet_count</th>\n",
        "    </tr>\n",
        "  </thead>\n",
        "  <tbody>\n",
        "    <tr>\n",
        "      <th>0</th>\n",
        "      <td> 53587f79a5b26b0911295f02</td>\n",
        "      <td> Thu Apr 24 03:00:37 +0000 2014</td>\n",
        "      <td> 0</td>\n",
        "      <td>    0</td>\n",
        "    </tr>\n",
        "    <tr>\n",
        "      <th>1</th>\n",
        "      <td> 53587f79a5b26b0911295f03</td>\n",
        "      <td> Thu Apr 24 03:00:37 +0000 2014</td>\n",
        "      <td> 0</td>\n",
        "      <td> 3612</td>\n",
        "    </tr>\n",
        "    <tr>\n",
        "      <th>2</th>\n",
        "      <td> 53587f79a5b26b0911295f04</td>\n",
        "      <td> Thu Apr 24 03:00:37 +0000 2014</td>\n",
        "      <td> 0</td>\n",
        "      <td>    0</td>\n",
        "    </tr>\n",
        "    <tr>\n",
        "      <th>3</th>\n",
        "      <td> 53587f79a5b26b0911295f05</td>\n",
        "      <td> Thu Apr 24 03:00:37 +0000 2014</td>\n",
        "      <td> 0</td>\n",
        "      <td> 3612</td>\n",
        "    </tr>\n",
        "    <tr>\n",
        "      <th>4</th>\n",
        "      <td> 53587f79a5b26b0911295f06</td>\n",
        "      <td> Thu Apr 24 03:00:37 +0000 2014</td>\n",
        "      <td> 0</td>\n",
        "      <td>    0</td>\n",
        "    </tr>\n",
        "  </tbody>\n",
        "</table>\n",
        "<p>5 rows \u00d7 4 columns</p>\n",
        "</div>"
       ],
       "metadata": {},
       "output_type": "pyout",
       "prompt_number": 25,
       "text": [
        "                        _id                      created_at  favorite_count  \\\n",
        "0  53587f79a5b26b0911295f02  Thu Apr 24 03:00:37 +0000 2014               0   \n",
        "1  53587f79a5b26b0911295f03  Thu Apr 24 03:00:37 +0000 2014               0   \n",
        "2  53587f79a5b26b0911295f04  Thu Apr 24 03:00:37 +0000 2014               0   \n",
        "3  53587f79a5b26b0911295f05  Thu Apr 24 03:00:37 +0000 2014               0   \n",
        "4  53587f79a5b26b0911295f06  Thu Apr 24 03:00:37 +0000 2014               0   \n",
        "\n",
        "   retweet_count  \n",
        "0              0  \n",
        "1           3612  \n",
        "2              0  \n",
        "3           3612  \n",
        "4              0  \n",
        "\n",
        "[5 rows x 4 columns]"
       ]
      }
     ],
     "prompt_number": 25
    },
    {
     "cell_type": "markdown",
     "metadata": {
      "slideshow": {
       "slide_type": "slide"
      }
     },
     "source": [
      "`.describe()` is a useful method to get the gist of our data."
     ]
    },
    {
     "cell_type": "code",
     "collapsed": false,
     "input": [
      "retweet_favorites.describe()"
     ],
     "language": "python",
     "metadata": {
      "slideshow": {
       "slide_type": "-"
      }
     },
     "outputs": [
      {
       "html": [
        "<div style=\"max-height:1000px;max-width:1500px;overflow:auto;\">\n",
        "<table border=\"1\" class=\"dataframe\">\n",
        "  <thead>\n",
        "    <tr style=\"text-align: right;\">\n",
        "      <th></th>\n",
        "      <th>favorite_count</th>\n",
        "      <th>retweet_count</th>\n",
        "    </tr>\n",
        "  </thead>\n",
        "  <tbody>\n",
        "    <tr>\n",
        "      <th>count</th>\n",
        "      <td> 298.000000</td>\n",
        "      <td>  298.000000</td>\n",
        "    </tr>\n",
        "    <tr>\n",
        "      <th>mean</th>\n",
        "      <td>   0.016779</td>\n",
        "      <td>  478.020134</td>\n",
        "    </tr>\n",
        "    <tr>\n",
        "      <th>std</th>\n",
        "      <td>   0.152599</td>\n",
        "      <td> 1438.831842</td>\n",
        "    </tr>\n",
        "    <tr>\n",
        "      <th>min</th>\n",
        "      <td>   0.000000</td>\n",
        "      <td>    0.000000</td>\n",
        "    </tr>\n",
        "    <tr>\n",
        "      <th>25%</th>\n",
        "      <td>   0.000000</td>\n",
        "      <td>    0.000000</td>\n",
        "    </tr>\n",
        "    <tr>\n",
        "      <th>50%</th>\n",
        "      <td>   0.000000</td>\n",
        "      <td>    0.000000</td>\n",
        "    </tr>\n",
        "    <tr>\n",
        "      <th>75%</th>\n",
        "      <td>   0.000000</td>\n",
        "      <td>    1.000000</td>\n",
        "    </tr>\n",
        "    <tr>\n",
        "      <th>max</th>\n",
        "      <td>   2.000000</td>\n",
        "      <td> 7670.000000</td>\n",
        "    </tr>\n",
        "  </tbody>\n",
        "</table>\n",
        "<p>8 rows \u00d7 2 columns</p>\n",
        "</div>"
       ],
       "metadata": {},
       "output_type": "pyout",
       "prompt_number": 26,
       "text": [
        "       favorite_count  retweet_count\n",
        "count      298.000000     298.000000\n",
        "mean         0.016779     478.020134\n",
        "std          0.152599    1438.831842\n",
        "min          0.000000       0.000000\n",
        "25%          0.000000       0.000000\n",
        "50%          0.000000       0.000000\n",
        "75%          0.000000       1.000000\n",
        "max          2.000000    7670.000000\n",
        "\n",
        "[8 rows x 2 columns]"
       ]
      }
     ],
     "prompt_number": 26
    },
    {
     "cell_type": "markdown",
     "metadata": {
      "slideshow": {
       "slide_type": "subslide"
      }
     },
     "source": [
      "However, when applied to a DataFrame, it only describes numeric columns."
     ]
    },
    {
     "cell_type": "code",
     "collapsed": false,
     "input": [
      "retweet_favorites.dtypes"
     ],
     "language": "python",
     "metadata": {
      "slideshow": {
       "slide_type": "-"
      }
     },
     "outputs": [
      {
       "metadata": {},
       "output_type": "pyout",
       "prompt_number": 27,
       "text": [
        "_id               object\n",
        "created_at        object\n",
        "favorite_count     int64\n",
        "retweet_count      int64\n",
        "dtype: object"
       ]
      }
     ],
     "prompt_number": 27
    },
    {
     "cell_type": "markdown",
     "metadata": {
      "slideshow": {
       "slide_type": "subslide"
      }
     },
     "source": [
      "`.describe()` can be called on individual columns (i.e. `Series`), even if they are not numeric."
     ]
    },
    {
     "cell_type": "code",
     "collapsed": false,
     "input": [
      "retweet_favorites.created_at.describe()"
     ],
     "language": "python",
     "metadata": {
      "slideshow": {
       "slide_type": "-"
      }
     },
     "outputs": [
      {
       "metadata": {},
       "output_type": "pyout",
       "prompt_number": 28,
       "text": [
        "count                                298\n",
        "unique                                30\n",
        "top       Mon Apr 28 23:18:20 +0000 2014\n",
        "freq                                  45\n",
        "Name: created_at, dtype: object"
       ]
      }
     ],
     "prompt_number": 28
    },
    {
     "cell_type": "markdown",
     "metadata": {
      "slideshow": {
       "slide_type": "fragment"
      }
     },
     "source": [
      "However, in this case `created_at` is being treated as a string, which is not very helpful. We can fix that with `pandas.to_datetime`:"
     ]
    },
    {
     "cell_type": "code",
     "collapsed": false,
     "input": [
      "retweet_favorites.created_at.map(pd.to_datetime).describe()"
     ],
     "language": "python",
     "metadata": {
      "slideshow": {
       "slide_type": "fragment"
      }
     },
     "outputs": [
      {
       "metadata": {},
       "output_type": "pyout",
       "prompt_number": 29,
       "text": [
        "count                     298\n",
        "unique                     30\n",
        "first     2014-04-24 03:00:11\n",
        "last      2014-04-28 23:18:21\n",
        "top       2014-04-28 23:18:20\n",
        "freq                       45\n",
        "Name: created_at, dtype: object"
       ]
      }
     ],
     "prompt_number": 29
    },
    {
     "cell_type": "markdown",
     "metadata": {
      "slideshow": {
       "slide_type": "notes"
      }
     },
     "source": [
      "Not all that interesting though, since all of these tweets were collected within a couple seconds of each other."
     ]
    },
    {
     "cell_type": "markdown",
     "metadata": {
      "slideshow": {
       "slide_type": "slide"
      }
     },
     "source": [
      "Mongo allows us to access subfields directly."
     ]
    },
    {
     "cell_type": "code",
     "collapsed": false,
     "input": [
      "mentions_followers = list(db.tweets.find(fields=['entities.user_mentions', 'user.followers_count']))\n",
      "pd.DataFrame(mentions_followers).head()"
     ],
     "language": "python",
     "metadata": {
      "slideshow": {
       "slide_type": "-"
      }
     },
     "outputs": [
      {
       "html": [
        "<div style=\"max-height:1000px;max-width:1500px;overflow:auto;\">\n",
        "<table border=\"1\" class=\"dataframe\">\n",
        "  <thead>\n",
        "    <tr style=\"text-align: right;\">\n",
        "      <th></th>\n",
        "      <th>_id</th>\n",
        "      <th>entities</th>\n",
        "      <th>user</th>\n",
        "    </tr>\n",
        "  </thead>\n",
        "  <tbody>\n",
        "    <tr>\n",
        "      <th>0</th>\n",
        "      <td> 53587f79a5b26b0911295f02</td>\n",
        "      <td>                            {u'user_mentions': []}</td>\n",
        "      <td> {u'followers_count': 2416}</td>\n",
        "    </tr>\n",
        "    <tr>\n",
        "      <th>1</th>\n",
        "      <td> 53587f79a5b26b0911295f03</td>\n",
        "      <td> {u'user_mentions': [{u'indices': [3, 16], u'sc...</td>\n",
        "      <td>  {u'followers_count': 130}</td>\n",
        "    </tr>\n",
        "    <tr>\n",
        "      <th>2</th>\n",
        "      <td> 53587f79a5b26b0911295f04</td>\n",
        "      <td> {u'user_mentions': [{u'indices': [0, 13], u'sc...</td>\n",
        "      <td>   {u'followers_count': 34}</td>\n",
        "    </tr>\n",
        "    <tr>\n",
        "      <th>3</th>\n",
        "      <td> 53587f79a5b26b0911295f05</td>\n",
        "      <td> {u'user_mentions': [{u'indices': [3, 16], u'sc...</td>\n",
        "      <td> {u'followers_count': 2619}</td>\n",
        "    </tr>\n",
        "    <tr>\n",
        "      <th>4</th>\n",
        "      <td> 53587f79a5b26b0911295f06</td>\n",
        "      <td> {u'user_mentions': [{u'indices': [0, 15], u'sc...</td>\n",
        "      <td>  {u'followers_count': 306}</td>\n",
        "    </tr>\n",
        "  </tbody>\n",
        "</table>\n",
        "<p>5 rows \u00d7 3 columns</p>\n",
        "</div>"
       ],
       "metadata": {},
       "output_type": "pyout",
       "prompt_number": 30,
       "text": [
        "                        _id  \\\n",
        "0  53587f79a5b26b0911295f02   \n",
        "1  53587f79a5b26b0911295f03   \n",
        "2  53587f79a5b26b0911295f04   \n",
        "3  53587f79a5b26b0911295f05   \n",
        "4  53587f79a5b26b0911295f06   \n",
        "\n",
        "                                            entities  \\\n",
        "0                             {u'user_mentions': []}   \n",
        "1  {u'user_mentions': [{u'indices': [3, 16], u'sc...   \n",
        "2  {u'user_mentions': [{u'indices': [0, 13], u'sc...   \n",
        "3  {u'user_mentions': [{u'indices': [3, 16], u'sc...   \n",
        "4  {u'user_mentions': [{u'indices': [0, 15], u'sc...   \n",
        "\n",
        "                         user  \n",
        "0  {u'followers_count': 2416}  \n",
        "1   {u'followers_count': 130}  \n",
        "2    {u'followers_count': 34}  \n",
        "3  {u'followers_count': 2619}  \n",
        "4   {u'followers_count': 306}  \n",
        "\n",
        "[5 rows x 3 columns]"
       ]
      }
     ],
     "prompt_number": 30
    },
    {
     "cell_type": "markdown",
     "metadata": {
      "slideshow": {
       "slide_type": "subslide"
      }
     },
     "source": [
      "Pandas doesn't know how to parse the sub-documents however, so we must tell it explicitly:"
     ]
    },
    {
     "cell_type": "code",
     "collapsed": false,
     "input": [
      "mentions_followers_df = pd.DataFrame({'user_mentions': len(tweet['entities']['user_mentions']), \n",
      "              'followers_count': tweet['user'].get('followers_count')} for tweet in mentions_followers)\n",
      "mentions_followers_df.head()"
     ],
     "language": "python",
     "metadata": {
      "slideshow": {
       "slide_type": "-"
      }
     },
     "outputs": [
      {
       "html": [
        "<div style=\"max-height:1000px;max-width:1500px;overflow:auto;\">\n",
        "<table border=\"1\" class=\"dataframe\">\n",
        "  <thead>\n",
        "    <tr style=\"text-align: right;\">\n",
        "      <th></th>\n",
        "      <th>followers_count</th>\n",
        "      <th>user_mentions</th>\n",
        "    </tr>\n",
        "  </thead>\n",
        "  <tbody>\n",
        "    <tr>\n",
        "      <th>0</th>\n",
        "      <td> 2416</td>\n",
        "      <td> 0</td>\n",
        "    </tr>\n",
        "    <tr>\n",
        "      <th>1</th>\n",
        "      <td>  130</td>\n",
        "      <td> 2</td>\n",
        "    </tr>\n",
        "    <tr>\n",
        "      <th>2</th>\n",
        "      <td>   34</td>\n",
        "      <td> 1</td>\n",
        "    </tr>\n",
        "    <tr>\n",
        "      <th>3</th>\n",
        "      <td> 2619</td>\n",
        "      <td> 2</td>\n",
        "    </tr>\n",
        "    <tr>\n",
        "      <th>4</th>\n",
        "      <td>  306</td>\n",
        "      <td> 1</td>\n",
        "    </tr>\n",
        "  </tbody>\n",
        "</table>\n",
        "<p>5 rows \u00d7 2 columns</p>\n",
        "</div>"
       ],
       "metadata": {},
       "output_type": "pyout",
       "prompt_number": 31,
       "text": [
        "   followers_count  user_mentions\n",
        "0             2416              0\n",
        "1              130              2\n",
        "2               34              1\n",
        "3             2619              2\n",
        "4              306              1\n",
        "\n",
        "[5 rows x 2 columns]"
       ]
      }
     ],
     "prompt_number": 31
    },
    {
     "cell_type": "markdown",
     "metadata": {
      "slideshow": {
       "slide_type": "slide"
      }
     },
     "source": [
      "Perhaps `user_mentions` and `followers_count` are correlated?"
     ]
    },
    {
     "cell_type": "code",
     "collapsed": false,
     "input": [
      "%matplotlib inline\n",
      "plt.scatter(mentions_followers_df.user_mentions, mentions_followers_df.followers_count)\n",
      "mentions_followers_df.corr()"
     ],
     "language": "python",
     "metadata": {
      "slideshow": {
       "slide_type": "-"
      }
     },
     "outputs": [
      {
       "html": [
        "<div style=\"max-height:1000px;max-width:1500px;overflow:auto;\">\n",
        "<table border=\"1\" class=\"dataframe\">\n",
        "  <thead>\n",
        "    <tr style=\"text-align: right;\">\n",
        "      <th></th>\n",
        "      <th>followers_count</th>\n",
        "      <th>user_mentions</th>\n",
        "    </tr>\n",
        "  </thead>\n",
        "  <tbody>\n",
        "    <tr>\n",
        "      <th>followers_count</th>\n",
        "      <td> 1.000000</td>\n",
        "      <td>-0.078672</td>\n",
        "    </tr>\n",
        "    <tr>\n",
        "      <th>user_mentions</th>\n",
        "      <td>-0.078672</td>\n",
        "      <td> 1.000000</td>\n",
        "    </tr>\n",
        "  </tbody>\n",
        "</table>\n",
        "<p>2 rows \u00d7 2 columns</p>\n",
        "</div>"
       ],
       "metadata": {},
       "output_type": "pyout",
       "prompt_number": 32,
       "text": [
        "                 followers_count  user_mentions\n",
        "followers_count         1.000000      -0.078672\n",
        "user_mentions          -0.078672       1.000000\n",
        "\n",
        "[2 rows x 2 columns]"
       ]
      },
      {
       "metadata": {},
       "output_type": "display_data",
       "png": "[encoded data removed]",
       "text": [
        "<matplotlib.figure.Figure at 0x10aeefa50>"
       ]
      }
     ],
     "prompt_number": 32
    },
    {
     "cell_type": "markdown",
     "metadata": {
      "slideshow": {
       "slide_type": "fragment"
      }
     },
     "source": [
      "Perhaps not."
     ]
    },
    {
     "cell_type": "markdown",
     "metadata": {
      "slideshow": {
       "slide_type": "slide"
      }
     },
     "source": [
      "Lab\n",
      "============\n",
      "1-2 Pairs\n",
      "------------"
     ]
    },
    {
     "cell_type": "markdown",
     "metadata": {
      "slideshow": {
       "slide_type": "notes"
      }
     },
     "source": [
      "Raise two fingers if you understand the material well.  \n",
      "Raise one finger if you understand this material OK.  \n",
      "Now, 1 find a 2 and sit next to them. While you work through this exercise, only 1's can type."
     ]
    },
    {
     "cell_type": "markdown",
     "metadata": {
      "slideshow": {
       "slide_type": "fragment"
      }
     },
     "source": [
      "The [Yahoo! Where On Earth ID](https://developer.yahoo.com/geo/geoplanet/) of Canada is 23424775.  \n",
      "Use it to find Twitter trends in Canada and compare it to US trends. What's the difference between them?  \n",
      "\n",
      "- Insert the last 100 tweets for all Canada-only trends into a `canada` collection.  \n",
      "- Insert the last 100 tweets for all US-only trends into a `us` collections.  \n",
      "- For this (small and not very representative) sample, which users have the highest `follower_count`?"
     ]
    },
    {
     "cell_type": "code",
     "collapsed": false,
     "input": [
      "CA_WOE_ID = '23424775'\n",
      "us_trends = twitter_api.trends.place(_id=US_WOE_ID)\n",
      "ca_trends = twitter_api.trends.place(_id=CA_WOE_ID)\n",
      "print('got trends')"
     ],
     "language": "python",
     "metadata": {},
     "outputs": [
      {
       "output_type": "stream",
       "stream": "stdout",
       "text": [
        "got trends\n"
       ]
      }
     ],
     "prompt_number": 47
    },
    {
     "cell_type": "code",
     "collapsed": false,
     "input": [
      "def prints(sname, eset):\n",
      "    print(\"SET: %s\" % sname)\n",
      "    for el in eset:\n",
      "        print(\"\\t%s\" % str(el))"
     ],
     "language": "python",
     "metadata": {},
     "outputs": [],
     "prompt_number": 64
    },
    {
     "cell_type": "code",
     "collapsed": false,
     "input": [
      "us_trends_set = set([trend['name'] for trends in us_trends\n",
      "                        for trend in trends['trends']])\n",
      "\n",
      "ca_trends_set = set([trend['name'] for trends in ca_trends\n",
      "                     for trend in trends['trends']]) \n",
      "\n",
      "prints('us trends',us_trends_set)\n",
      "prints('ca trends', ca_trends_set)"
     ],
     "language": "python",
     "metadata": {},
     "outputs": [
      {
       "output_type": "stream",
       "stream": "stdout",
       "text": [
        "SET: us trends\n",
        "\tFinally Malkin\n",
        "\tThey Don't Love You No More\n",
        "\tStudent's Creed\n",
        "\tHell Above\n",
        "\t#OpTicLAN\n",
        "\t#DinahtoMyJane\n",
        "\t#BieberStoleFromParamore\n",
        "\t#thegolffix\n",
        "\t#OnTheRunTour\n",
        "\tLeBron vs the Bobcats\n",
        "SET: ca trends\n",
        "\t#Problem\n",
        "\tColumbus\n",
        "\tThe Panel Intern\n",
        "\tJim Prentice\n",
        "\tGoins\n",
        "\t#WeWereBornForThis\n",
        "\t#BuyProblemOniTunes\n",
        "\t#DinahtoMyJane\n",
        "\tMalkin\n",
        "\t#BieberStoleFromParamore\n"
       ]
      }
     ],
     "prompt_number": 50
    },
    {
     "cell_type": "code",
     "collapsed": false,
     "input": [
      "\n",
      "\n",
      "us_only = us_trends_set.difference(ca_trends_set)\n",
      "ca_only = ca_trends_set.difference(us_trends_set)\n",
      "prints('US', us_only)\n",
      "prints('CA', ca_only)\n"
     ],
     "language": "python",
     "metadata": {},
     "outputs": [
      {
       "output_type": "stream",
       "stream": "stdout",
       "text": [
        "SET: US\n",
        "\tFinally Malkin\n",
        "\tThey Don't Love You No More\n",
        "\tStudent's Creed\n",
        "\tHell Above\n",
        "\t#OpTicLAN\n",
        "\t#thegolffix\n",
        "\t#OnTheRunTour\n",
        "\tLeBron vs the Bobcats\n",
        "SET: CA\n",
        "\t#Problem\n",
        "\tColumbus\n",
        "\tThe Panel Intern\n",
        "\tJim Prentice\n",
        "\tGoins\n",
        "\t#WeWereBornForThis\n",
        "\t#BuyProblemOniTunes\n",
        "\tMalkin\n"
       ]
      }
     ],
     "prompt_number": 51
    },
    {
     "cell_type": "code",
     "collapsed": false,
     "input": [
      "#Insert the last 100 tweets for all Canada-only trends into a canada collection.\n",
      "#Insert the last 100 tweets for all US-only trends into a us collections."
     ],
     "language": "python",
     "metadata": {},
     "outputs": [],
     "prompt_number": 81
    },
    {
     "cell_type": "code",
     "collapsed": false,
     "input": [
      "db = c.twitter\n",
      "\n",
      "#define our insert_statuses method to be even a little bit DRY\n",
      "def insert_statuses(query, collection, number):\n",
      "    search_results = twitter_api.search.tweets(q=q, count=number)\n",
      "    statuses = search_results['statuses']\n",
      "    print('%s: %s' % (query, len(statuses)))\n",
      "    for status in statuses:\n",
      "        collection.insert(status)\n",
      "\n",
      "print(\"\\n\\nUS\")\n",
      "for trend in us_only:\n",
      "    insert_statuses(trend, db.us_statuses, 100)\n",
      "    \n",
      "print(\"\\n\\nCA\")\n",
      "for trend in ca_only:\n",
      "    insert_statuses(trend, db.ca_statuses, 100)"
     ],
     "language": "python",
     "metadata": {},
     "outputs": [
      {
       "output_type": "stream",
       "stream": "stdout",
       "text": [
        "\n",
        "\n",
        "US\n",
        "Finally Malkin: 100"
       ]
      },
      {
       "output_type": "stream",
       "stream": "stdout",
       "text": [
        "\n",
        "They Don't Love You No More: 100"
       ]
      },
      {
       "output_type": "stream",
       "stream": "stdout",
       "text": [
        "\n",
        "Student's Creed: 100"
       ]
      },
      {
       "output_type": "stream",
       "stream": "stdout",
       "text": [
        "\n",
        "Hell Above: 100"
       ]
      },
      {
       "output_type": "stream",
       "stream": "stdout",
       "text": [
        "\n",
        "#OpTicLAN: 100"
       ]
      },
      {
       "output_type": "stream",
       "stream": "stdout",
       "text": [
        "\n",
        "#thegolffix: 100"
       ]
      },
      {
       "output_type": "stream",
       "stream": "stdout",
       "text": [
        "\n",
        "#OnTheRunTour: 100"
       ]
      },
      {
       "output_type": "stream",
       "stream": "stdout",
       "text": [
        "\n",
        "LeBron vs the Bobcats: 100"
       ]
      },
      {
       "output_type": "stream",
       "stream": "stdout",
       "text": [
        "\n",
        "\n",
        "\n",
        "CA\n",
        "#Problem: 100"
       ]
      },
      {
       "output_type": "stream",
       "stream": "stdout",
       "text": [
        "\n",
        "Columbus: 100"
       ]
      },
      {
       "output_type": "stream",
       "stream": "stdout",
       "text": [
        "\n",
        "The Panel Intern: 100"
       ]
      },
      {
       "output_type": "stream",
       "stream": "stdout",
       "text": [
        "\n",
        "Jim Prentice: 100"
       ]
      },
      {
       "output_type": "stream",
       "stream": "stdout",
       "text": [
        "\n",
        "Goins: 100"
       ]
      },
      {
       "output_type": "stream",
       "stream": "stdout",
       "text": [
        "\n",
        "#WeWereBornForThis: 100"
       ]
      },
      {
       "output_type": "stream",
       "stream": "stdout",
       "text": [
        "\n",
        "#BuyProblemOniTunes: 100"
       ]
      },
      {
       "output_type": "stream",
       "stream": "stdout",
       "text": [
        "\n",
        "Malkin: 100"
       ]
      },
      {
       "output_type": "stream",
       "stream": "stdout",
       "text": [
        "\n"
       ]
      }
     ],
     "prompt_number": 82
    },
    {
     "cell_type": "code",
     "collapsed": false,
     "input": [
      "print db.collection_names()"
     ],
     "language": "python",
     "metadata": {},
     "outputs": [
      {
       "output_type": "stream",
       "stream": "stdout",
       "text": [
        "[u'system.indexes', u'tweets', u'us_statuses', u'ca_statuses']\n"
       ]
      }
     ],
     "prompt_number": 83
    },
    {
     "cell_type": "code",
     "collapsed": false,
     "input": [
      "#For this (small and not very representative) sample, which users have the highest follower_count?"
     ],
     "language": "python",
     "metadata": {},
     "outputs": [],
     "prompt_number": 84
    },
    {
     "cell_type": "code",
     "collapsed": false,
     "input": [
      "#For this (small and not very representative) sample, which users have the highest follower_count"
     ],
     "language": "python",
     "metadata": {},
     "outputs": [],
     "prompt_number": 85
    },
    {
     "cell_type": "code",
     "collapsed": false,
     "input": [
      "us_set = set([(status['user']['screen_name'], status['user']['followers_count']) for status in db.us_statuses.find()])\n",
      "ca_set = set([(status['user']['screen_name'], status['user']['followers_count']) for status in db.ca_statuses.find()])\n",
      "\n",
      "#prints('us users', us_set)\n",
      "#prints('ca users', ca_set)\n",
      "\n",
      "all_statuses = us_set.union(ca_set)\n",
      "print ('us: %s' % len(us_set))\n",
      "print ('ca: %s' % len(ca_set))\n",
      "\n",
      "print ('all: %s' % len(all_statuses))\n",
      "print ('intersect: %s' % len(us_set.intersection(ca_set)))\n",
      "\n",
      "#this is to be expected I guess, but most of the tweets in the top Canada trends come from people in the US\n",
      "#this threw me for a loop\n",
      "\n",
      "df = pd.DataFrame(list(all_statuses), columns=['user', 'followers_count'])\n",
      "df\n",
      "\n",
      "#user with the highest follower count is....\n",
      "df.ix[df['followers_count'].idxmax()]"
     ],
     "language": "python",
     "metadata": {},
     "outputs": [
      {
       "output_type": "stream",
       "stream": "stdout",
       "text": [
        "us: 206\n",
        "ca: 149\n",
        "all: 207\n",
        "intersect: 148\n"
       ]
      },
      {
       "metadata": {},
       "output_type": "pyout",
       "prompt_number": 98,
       "text": [
        "user               biebcx\n",
        "followers_count     43629\n",
        "Name: 104, dtype: object"
       ]
      }
     ],
     "prompt_number": 98
    },
    {
     "cell_type": "markdown",
     "metadata": {
      "slideshow": {
       "slide_type": "fragment"
      }
     },
     "source": [
      "Individually:\n",
      "------------\n",
      "Find tweets where `'retweet_count': {\"$gt\": 0}`.  \n",
      "What is their `count`?  \n",
      "Is there anything about them that stands out as retweetable?"
     ]
    },
    {
     "cell_type": "code",
     "collapsed": false,
     "input": [
      "us_statuses = list(db.us_statuses.find({'retweet_count': {\"$gt\": 0}}))\n",
      "ca_statuses = list(db.ca_statuses.find({'retweet_count': {\"$gt\": 0}}))\n",
      "\n",
      "all_statuses = us_statuses + ca_statuses\n",
      "len(all_statuses)\n",
      "#I'd be damned if I knew. I tried to look for correlations and didn't find anything interesting.\n",
      "#I don't get social media...."
     ],
     "language": "python",
     "metadata": {},
     "outputs": [
      {
       "metadata": {},
       "output_type": "pyout",
       "prompt_number": 99,
       "text": [
        "528"
       ]
      }
     ],
     "prompt_number": 99
    },
    {
     "cell_type": "markdown",
     "metadata": {
      "slideshow": {
       "slide_type": "notes"
      }
     },
     "source": [
      "Further exercises:  \n",
      "\n",
      "* Twitter - _Mining-the-Social-Web-2nd-Edition_: [Chapter 1 - Mining Twitter](http://nbviewer.ipython.org/github/ptwobrussell/Mining-the-Social-Web-2nd-Edition/blob/master/ipynb/__Chapter%201%20-%20Mining%20Twitter%20%28Full-Text%20Sampler%29.ipynb)\n",
      "* Mongo - [Aggregation Framework](http://docs.mongodb.org/manual/aggregation/)"
     ]
    },
    {
     "cell_type": "markdown",
     "metadata": {
      "slideshow": {
       "slide_type": "slide"
      }
     },
     "source": [
      "Next week:\n",
      "==============\n",
      "Exploring Data\n",
      "--------------"
     ]
    }
   ],
   "metadata": {}
  }
 ]
}